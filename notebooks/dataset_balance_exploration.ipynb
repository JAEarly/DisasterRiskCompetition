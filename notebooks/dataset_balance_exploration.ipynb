{
 "cells": [
  {
   "cell_type": "code",
   "execution_count": 1,
   "metadata": {
    "collapsed": true,
    "pycharm": {
     "is_executing": false
    }
   },
   "outputs": [
    {
     "data": {
      "text/plain": "'/home/je/DisasterRiskCompetition/notebooks'"
     },
     "metadata": {},
     "output_type": "execute_result",
     "execution_count": 1
    }
   ],
   "source": [
    "%pwd"
   ]
  },
  {
   "cell_type": "code",
   "execution_count": 2,
   "outputs": [
    {
     "data": {
      "text/plain": "'/home/je/DisasterRiskCompetition'"
     },
     "metadata": {},
     "output_type": "execute_result",
     "execution_count": 2
    }
   ],
   "source": [
    "import os\n",
    "os.chdir(\"../\")\n",
    "%pwd"
   ],
   "metadata": {
    "collapsed": false,
    "pycharm": {
     "name": "#%%\n",
     "is_executing": false
    }
   }
  },
  {
   "cell_type": "code",
   "execution_count": 10,
   "outputs": [
    {
     "name": "stdout",
     "text": [
      "[1217, 11856, 536, 4195, 250]\n",
      "18054\n18054\n18054\n18054\n18054\n"
     ],
     "output_type": "stream"
    }
   ],
   "source": [
    "import features\n",
    "from features import FeatureDatasets\n",
    "\n",
    "feature_extractor = features.AlexNet256()\n",
    "features_datasets = FeatureDatasets(feature_extractor)"
   ],
   "metadata": {
    "collapsed": false,
    "pycharm": {
     "name": "#%%\n",
     "is_executing": false
    }
   }
  },
  {
   "cell_type": "code",
   "execution_count": null,
   "outputs": [],
   "source": [
    "\n",
    "    def _augment_by_distribution(self):\n",
    "        data_dist = [0] * 5\n",
    "        for label in self.labels:\n",
    "            data_dist[label] += 1\n",
    "        max_class_size = max(data_dist)\n",
    "        print(data_dist)\n",
    "\n",
    "        grouped_vectors = [[] for i in range(5)]\n",
    "        for filename, label in zip(self.filenames, self.labels):\n",
    "            vector = self._load_vector(filename)\n",
    "            grouped_vectors[label].append(vector)\n",
    "        for i in range(5):\n",
    "            if data_dist[i] < max_class_size:\n",
    "            vecs = torch.stack(grouped_vectors[i])\n",
    "            mu = torch.mean(vecs, 0)\n",
    "            std = torch.std(vecs, 0)\n",
    "            n = torch.distributions.Normal(torch.tensor([4.0]), torch.tensor([0.5]))\n"
   ],
   "metadata": {
    "collapsed": false,
    "pycharm": {
     "name": "#%%\n"
    }
   }
  }
 ],
 "metadata": {
  "kernelspec": {
   "display_name": "Python 3",
   "language": "python",
   "name": "python3"
  },
  "language_info": {
   "codemirror_mode": {
    "name": "ipython",
    "version": 2
   },
   "file_extension": ".py",
   "mimetype": "text/x-python",
   "name": "python",
   "nbconvert_exporter": "python",
   "pygments_lexer": "ipython2",
   "version": "2.7.6"
  },
  "pycharm": {
   "stem_cell": {
    "cell_type": "raw",
    "source": [],
    "metadata": {
     "collapsed": false
    }
   }
  }
 },
 "nbformat": 4,
 "nbformat_minor": 0
}